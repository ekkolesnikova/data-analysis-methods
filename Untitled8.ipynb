{
  "nbformat": 4,
  "nbformat_minor": 0,
  "metadata": {
    "colab": {
      "name": "Untitled8.ipynb",
      "provenance": [],
      "collapsed_sections": []
    },
    "kernelspec": {
      "name": "python3",
      "display_name": "Python 3"
    },
    "language_info": {
      "name": "python"
    }
  },
  "cells": [
    {
      "cell_type": "markdown",
      "metadata": {
        "id": "RU6jKg8B6TFA"
      },
      "source": [
        "Добрый день, Юлия Владимировна!\n",
        "Ваши прошлые замечания учту, спасибо! По поводу лишних print... это для меня было, потому что я путаюсь, что у меня получается на выходе, по мере решения задачи и продвижения по коду - стараюсь не забывать убрать. В этом задании суть понятнее, а реализация пострадала. На моменте поиска ближайшего центра, не могу сообразить как сделать сравнение для 3 кластеров и более не через бесконечные циклы."
      ]
    },
    {
      "cell_type": "code",
      "metadata": {
        "colab": {
          "base_uri": "https://localhost:8080/",
          "height": 281
        },
        "id": "KojPFqm21yDY",
        "outputId": "e8347057-3693-44ab-bcc6-56e4c13e5843"
      },
      "source": [
        "import matplotlib.pyplot as plt\n",
        "from sklearn.datasets import make_blobs\n",
        "X, Y = make_blobs(n_samples = 50, n_features=2, centers=5, cluster_std = 1.2, random_state=17)\n",
        "plt.scatter(X[:,0], X[:,1])"
      ],
      "execution_count": 3,
      "outputs": [
        {
          "output_type": "execute_result",
          "data": {
            "text/plain": [
              "<matplotlib.collections.PathCollection at 0x7f7078262d10>"
            ]
          },
          "metadata": {},
          "execution_count": 3
        },
        {
          "output_type": "display_data",
          "data": {
            "image/png": "[encoded data removed]",
            "text/plain": [
              "<Figure size 432x288 with 1 Axes>"
            ]
          },
          "metadata": {
            "needs_background": "light"
          }
        }
      ]
    },
    {
      "cell_type": "code",
      "metadata": {
        "id": "qBLQNTqiC3rl"
      },
      "source": [
        "#Евклидово расстояние\n",
        "def euclideanDist(x1, x2):\n",
        "    # input x1 and x2 must be numpy arrays\n",
        "    return np.sqrt(np.sum(np.square(x1-x2)))"
      ],
      "execution_count": 4,
      "outputs": []
    },
    {
      "cell_type": "code",
      "metadata": {
        "id": "FDHlRVNmC0FU",
        "colab": {
          "base_uri": "https://localhost:8080/"
        },
        "outputId": "a910acbb-165b-470b-8bfd-21ff91d7edaf"
      },
      "source": [
        "import numpy as np\n",
        "import statistics\n",
        "def kmeans(D, k, s):\n",
        "  v=[]\n",
        "  w=[]\n",
        "  b=[]\n",
        "  g=[]\n",
        "  coord=[]\n",
        "  coord1=[]\n",
        "  coord2=[]\n",
        "  test=[]\n",
        "  new_j=[]\n",
        "  #случайным образом инициализируем  k  центров кластеров\n",
        "  for j in range(k):\n",
        "    a=(X[np.random.choice(len(X))])\n",
        "    v=np.concatenate((v, a))\n",
        "    w=np.hsplit(v, j+1)\n",
        "  #Измеряю расстояние от каждого центроида до точек\n",
        "  for i in range(k):\n",
        "    for j in X:\n",
        "      new_j=np.array([euclideanDist(m, w[i]) for m in X])\n",
        "    #записываю в один массив\n",
        "    b=np.concatenate((b, new_j))\n",
        "    g=np.hsplit(b, i+1)\n",
        "  #print(g)\n",
        "  #for i in range(k):\n",
        "  #определяю наименьшее расстояние (вот тут то и работает только до 2) и соотношу соответствующему кластеру(массив с кластерами test)\n",
        "  for j in range(len(g[i])):\n",
        "    if (g[i-1][j]<=g[i][j]):               \n",
        "      test.insert(j, k-1)\n",
        "    else:\n",
        "      test.insert(j, k)\n",
        "  print(test)\n",
        "  #вычисляю координаты\n",
        "  for i in range(len(test)-1):\n",
        "    if(test[i]==1):\n",
        "      coord1.append(X[i])\n",
        "    else:\n",
        "      coord2.append(X[i])\n",
        "#тут я собиралась посчитать среднее для вычисления новых значений центроида\n",
        "\n",
        "#a=[1, 2, 3, 4, 5, 6, 7, 8, 9, 10]\n",
        "#for i in a:\n",
        "kmeans(X,2,0.2)\n",
        "    "
      ],
      "execution_count": 91,
      "outputs": [
        {
          "output_type": "stream",
          "name": "stdout",
          "text": [
            "[2, 2, 2, 2, 1, 2, 2, 2, 2, 2, 2, 2, 2, 2, 2, 2, 2, 2, 2, 2, 2, 2, 1, 2, 2, 1, 2, 1, 2, 2, 1, 1, 1, 1, 2, 2, 1, 2, 2, 2, 2, 2, 2, 2, 2, 2, 2, 2, 2, 2]\n",
            "[array([-5.48824455, -8.08365402]), array([-6.01751161, -9.47500751]), array([-7.0758519 , -8.22211765]), array([-4.99653414, -8.80829514]), array([-5.50037494, -8.52301692]), array([-5.40407285, -7.79826002]), array([-5.00773791, -7.59844423]), array([-6.04495669, -8.28128359]), array([ -7.56803196, -11.08518659])]\n"
          ]
        }
      ]
    }
  ]
}