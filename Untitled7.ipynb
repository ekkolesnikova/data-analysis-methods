{
  "nbformat": 4,
  "nbformat_minor": 0,
  "metadata": {
    "colab": {
      "name": "Untitled7.ipynb",
      "provenance": [],
      "collapsed_sections": []
    },
    "kernelspec": {
      "name": "python3",
      "display_name": "Python 3"
    },
    "language_info": {
      "name": "python"
    }
  },
  "cells": [
    {
      "cell_type": "markdown",
      "metadata": {
        "id": "9RKJHdUIrBsh"
      },
      "source": [
        "Задача 1"
      ]
    },
    {
      "cell_type": "code",
      "metadata": {
        "id": "wQSkSAUf3WjZ",
        "colab": {
          "base_uri": "https://localhost:8080/",
          "height": 297
        },
        "outputId": "d4c8a5c8-85f9-4145-aeac-b879ca6d4522"
      },
      "source": [
        "import matplotlib.pyplot as plt\n",
        "import numpy as np\n",
        "import random\n",
        "from sklearn.datasets import make_blobs\n",
        "X, Y = make_blobs(n_samples = 100, n_features=2, centers=3, \n",
        "                  cluster_std = 2, random_state=17)\n",
        "plt.scatter(X[:,0], X[:,1], c=Y)\n",
        "#x=[random.randint(-10,10),random.randint(-15,5)]\n",
        "#plt.scatter(x[0], x[1], s = 100, c='g', marker='X')\n",
        "plt.title('Initial data')\n",
        "#print(x)"
      ],
      "execution_count": 129,
      "outputs": [
        {
          "output_type": "execute_result",
          "data": {
            "text/plain": [
              "Text(0.5, 1.0, 'Initial data')"
            ]
          },
          "metadata": {},
          "execution_count": 129
        },
        {
          "output_type": "display_data",
          "data": {
            "image/png": "[encoded data removed]",
            "text/plain": [
              "<Figure size 432x288 with 1 Axes>"
            ]
          },
          "metadata": {
            "needs_background": "light"
          }
        }
      ]
    },
    {
      "cell_type": "code",
      "metadata": {
        "id": "abDq4Wb-wLWi"
      },
      "source": [
        "#Евклидово расстояние\n",
        "def euclideanDist(x1, x2):\n",
        "    # input x1 and x2 must be numpy arrays\n",
        "    return np.sqrt(np.sum(np.square(x1-x2)))"
      ],
      "execution_count": 130,
      "outputs": []
    },
    {
      "cell_type": "code",
      "metadata": {
        "id": "NMcSyShgvshI"
      },
      "source": [
        "#Вычисление Accuracy\n",
        "def getAccuracy(y_pred, y_true):\n",
        "    return np.sum([y_pred == y_true])/len(y_true)"
      ],
      "execution_count": 131,
      "outputs": []
    },
    {
      "cell_type": "code",
      "metadata": {
        "id": "kNOpKNb2xuKS"
      },
      "source": [
        "import operator\n",
        "\n",
        "def kNN(x_train, y_train, x, k):\n",
        "    \n",
        "    # рассчет расстояния между x и каждым элементом тренировочных данных\n",
        "    dists = np.array([euclideanDist(t, x) for t in x_train])\n",
        "    #print (dists)\n",
        "    # сортировка расстояний\n",
        "    sortedDist=sorted(dists)\n",
        "    sortedinDist = np.argsort(dists)\n",
        "    #print(sortedinDist)\n",
        "    #print(\"Наименьшее расстояние -\",   sortedDist[0])\n",
        "    # поиск ближайшей метки\n",
        "    classVotes = {} \n",
        "    for i in range(k):\n",
        "        label = y_train[sortedinDist[i]]\n",
        "        classVotes[label] = classVotes.get(label, 0) + 1\n",
        "        #print (classVotes)\n",
        "    # сортировка\n",
        "    sortedVotes = sorted(classVotes.items(), key=operator.itemgetter(1), reverse=True)\n",
        "    return sortedVotes[0][0]\n"
      ],
      "execution_count": 132,
      "outputs": []
    },
    {
      "cell_type": "code",
      "metadata": {
        "id": "23Epuz0AMIcV",
        "colab": {
          "base_uri": "https://localhost:8080/"
        },
        "outputId": "84b6bbed-1e66-4256-c3f3-861944acc87b"
      },
      "source": [
        "# Разделим данные на 60% тренировочных и 40% тестовых:\n",
        "from sklearn.model_selection import train_test_split\n",
        "x_train, x_test, y_train, y_test = train_test_split(\n",
        "    X, Y, test_size=0.4, random_state=0)\n",
        "#проба на элементе тестового набора\n",
        "y_pred = kNN(x_train, y_train, x_test[22], 3)\n",
        "print ('y_pred = %s' % y_pred)\n",
        "print ('y_true = %s' % y_test[22])"
      ],
      "execution_count": 133,
      "outputs": [
        {
          "output_type": "stream",
          "name": "stdout",
          "text": [
            "y_pred = 0\n",
            "y_true = 0\n"
          ]
        }
      ]
    },
    {
      "cell_type": "code",
      "metadata": {
        "colab": {
          "base_uri": "https://localhost:8080/"
        },
        "id": "vdsTJJ0jusX6",
        "outputId": "7504e0b6-a511-4046-d7ec-4d7c50a6ebd1"
      },
      "source": [
        "y_pred = []\n",
        "for x in x_test:\n",
        "    y = kNN(x_train, y_train, x, 1)\n",
        "    y_pred.append(y)\n",
        "y_pred = np.array(y_pred)\n",
        "accuracy = getAccuracy(y_pred, y_test)\n",
        "print('for 1 neighbors: Accuracy: %.2f' % (accuracy * 100) + '%')"
      ],
      "execution_count": 136,
      "outputs": [
        {
          "output_type": "stream",
          "name": "stdout",
          "text": [
            "for 1 neighbors: Accuracy: 97.50%\n"
          ]
        }
      ]
    },
    {
      "cell_type": "code",
      "metadata": {
        "colab": {
          "base_uri": "https://localhost:8080/"
        },
        "id": "zt8Baqhv0e8t",
        "outputId": "07d8a9ef-6aca-418d-c30a-30dec995ad81"
      },
      "source": [
        "y_pred = []\n",
        "for x in x_test:\n",
        "    y = kNN(x_train, y_train, x, 3)\n",
        "    y_pred.append(y)\n",
        "y_pred = np.array(y_pred)\n",
        "accuracy = getAccuracy(y_pred, y_test)\n",
        "print('for 3 neighbors: Accuracy: %.2f' % (accuracy * 100) + '%')"
      ],
      "execution_count": 137,
      "outputs": [
        {
          "output_type": "stream",
          "name": "stdout",
          "text": [
            "for 3 neighbors: Accuracy: 97.50%\n"
          ]
        }
      ]
    },
    {
      "cell_type": "code",
      "metadata": {
        "colab": {
          "base_uri": "https://localhost:8080/"
        },
        "id": "IL9RZfL00hXe",
        "outputId": "57b86c18-3103-4f42-ae1e-9bfebed49ccf"
      },
      "source": [
        "y_pred = []\n",
        "for x in x_test:\n",
        "    y = kNN(x_train, y_train, x, 5)\n",
        "    y_pred.append(y)\n",
        "y_pred = np.array(y_pred)\n",
        "accuracy = getAccuracy(y_pred, y_test)\n",
        "print('for 5 neighbors: Accuracy: %.2f' % (accuracy * 100) + '%')"
      ],
      "execution_count": 138,
      "outputs": [
        {
          "output_type": "stream",
          "name": "stdout",
          "text": [
            "for 5 neighbors: Accuracy: 100.00%\n"
          ]
        }
      ]
    },
    {
      "cell_type": "code",
      "metadata": {
        "colab": {
          "base_uri": "https://localhost:8080/"
        },
        "id": "noBtB3bP0jMK",
        "outputId": "168558c4-2086-43a2-cd8e-3ed2c8571a03"
      },
      "source": [
        "y_pred = []\n",
        "for x in x_test:\n",
        "    y = kNN(x_train, y_train, x, 7)\n",
        "    y_pred.append(y)\n",
        "y_pred = np.array(y_pred)\n",
        "accuracy = getAccuracy(y_pred, y_test)\n",
        "print('for 7 neighbors: Accuracy: %.2f' % (accuracy * 100) + '%')"
      ],
      "execution_count": 139,
      "outputs": [
        {
          "output_type": "stream",
          "name": "stdout",
          "text": [
            "for 7 neighbors: Accuracy: 100.00%\n"
          ]
        }
      ]
    },
    {
      "cell_type": "code",
      "metadata": {
        "colab": {
          "base_uri": "https://localhost:8080/"
        },
        "id": "CCyddjZK0k4c",
        "outputId": "febef5c9-beab-4215-cc11-5ca68c75c757"
      },
      "source": [
        "y_pred = []\n",
        "for x in x_test:\n",
        "    y = kNN(x_train, y_train, x, 9)\n",
        "    y_pred.append(y)\n",
        "y_pred = np.array(y_pred)\n",
        "accuracy = getAccuracy(y_pred, y_test)\n",
        "print('for 9 neighbors: Accuracy: %.2f' % (accuracy * 100) + '%')"
      ],
      "execution_count": 140,
      "outputs": [
        {
          "output_type": "stream",
          "name": "stdout",
          "text": [
            "for 9 neighbors: Accuracy: 100.00%\n"
          ]
        }
      ]
    },
    {
      "cell_type": "code",
      "metadata": {
        "colab": {
          "base_uri": "https://localhost:8080/",
          "height": 297
        },
        "id": "bpgd7dU36l-L",
        "outputId": "34a4255c-235b-4e11-e131-542e62e3a68a"
      },
      "source": [
        "import matplotlib.pyplot as plt\n",
        "import numpy as np\n",
        "import random\n",
        "from sklearn.datasets import make_blobs\n",
        "from sklearn.neighbors import KNeighborsClassifier\n",
        "X, Y = make_blobs(n_samples = 100, n_features=2, centers=3, \n",
        "                  cluster_std = 2, random_state=17)\n",
        "plt.scatter(X[:,0], X[:,1], c=Y)\n",
        "\n",
        "clf = KNeighborsClassifier(n_neighbors=5)\n",
        "clf.fit(X,Y);\n",
        "h = .03\n",
        "x_min, x_max = np.min(X[:,0]) - 1, np.max(X[:,0]) + 1\n",
        "y_min, y_max = np.min(X[:,1]) - 1, np.max(X[:,1]) + 1\n",
        "\n",
        "xx, yy = np.meshgrid(np.arange(x_min, x_max, h),\n",
        "                      np.arange(y_min, y_max, h))\n",
        "Z = clf.predict(np.vstack((xx.ravel(), yy.ravel())).transpose())\n",
        "Z = Z.reshape(xx.shape)\n",
        "plt.contourf(xx, yy, Z, alpha=.2)\n",
        "\n",
        "plt.title('Initial data')"
      ],
      "execution_count": 152,
      "outputs": [
        {
          "output_type": "execute_result",
          "data": {
            "text/plain": [
              "Text(0.5, 1.0, 'Initial data')"
            ]
          },
          "metadata": {},
          "execution_count": 152
        },
        {
          "output_type": "display_data",
          "data": {
            "image/png": "[encoded data removed]",
            "text/plain": [
              "<Figure size 432x288 with 1 Axes>"
            ]
          },
          "metadata": {
            "needs_background": "light"
          }
        }
      ]
    },
    {
      "cell_type": "markdown",
      "metadata": {
        "id": "vDXxz6ZXq9b6"
      },
      "source": [
        "Задача 2"
      ]
    },
    {
      "cell_type": "code",
      "metadata": {
        "colab": {
          "base_uri": "https://localhost:8080/"
        },
        "id": "j0Xs-ftnq8Sj",
        "outputId": "cb455028-3700-4ebb-df6e-6a66d1ae75d4"
      },
      "source": [
        "x = np.arange(0, 5, 0.2)\n",
        "y = np.sin(x)\n",
        "len(x)"
      ],
      "execution_count": 153,
      "outputs": [
        {
          "output_type": "execute_result",
          "data": {
            "text/plain": [
              "25"
            ]
          },
          "metadata": {},
          "execution_count": 153
        }
      ]
    },
    {
      "cell_type": "code",
      "metadata": {
        "colab": {
          "base_uri": "https://localhost:8080/",
          "height": 298
        },
        "id": "yoFl6Zrysvn2",
        "outputId": "da23336b-0a65-45f7-8f33-22399dd6901c"
      },
      "source": [
        "np.random.seed(4)\n",
        "x_train = np.random.choice(x, size=15)\n",
        "y_train = np.sin(x_train)\n",
        "plt.plot(x, y)\n",
        "plt.scatter(x_train, y_train);\n",
        "x_train, x_test, y_train, y_test = train_test_split(\n",
        "    x, y, test_size=0.4, random_state=0)\n",
        "print(x_test)\n",
        "print(x_train)"
      ],
      "execution_count": 154,
      "outputs": [
        {
          "output_type": "stream",
          "name": "stdout",
          "text": [
            "[1.  0.4 3.8 3.2 2.2 4.4 3.4 4.8 4.6 2.8]\n",
            "[0.2 2.  2.6 1.6 1.2 3.6 0.8 1.8 1.4 4.  0.6 0.  4.2 3.  2.4]\n"
          ]
        },
        {
          "output_type": "display_data",
          "data": {
            "image/png": "[encoded data removed]",
            "text/plain": [
              "<Figure size 432x288 with 1 Axes>"
            ]
          },
          "metadata": {
            "needs_background": "light"
          }
        }
      ]
    },
    {
      "cell_type": "code",
      "metadata": {
        "id": "MTK0ymEBUp2L",
        "colab": {
          "base_uri": "https://localhost:8080/"
        },
        "outputId": "ecc01715-d2a4-4482-fc13-cb55bd0df412"
      },
      "source": [
        "def Dist(c1,c2):\n",
        "  return abs(c1-c2)\n",
        "dists = np.array([Dist(t, x_test) for t in x_train])\n",
        "print(dists)"
      ],
      "execution_count": 200,
      "outputs": [
        {
          "output_type": "stream",
          "name": "stdout",
          "text": [
            "[[0.8 0.2 3.6 3.  2.  4.2 3.2 4.6 4.4 2.6]\n",
            " [1.  1.6 1.8 1.2 0.2 2.4 1.4 2.8 2.6 0.8]\n",
            " [1.6 2.2 1.2 0.6 0.4 1.8 0.8 2.2 2.  0.2]\n",
            " [0.6 1.2 2.2 1.6 0.6 2.8 1.8 3.2 3.  1.2]\n",
            " [0.2 0.8 2.6 2.  1.  3.2 2.2 3.6 3.4 1.6]\n",
            " [2.6 3.2 0.2 0.4 1.4 0.8 0.2 1.2 1.  0.8]\n",
            " [0.2 0.4 3.  2.4 1.4 3.6 2.6 4.  3.8 2. ]\n",
            " [0.8 1.4 2.  1.4 0.4 2.6 1.6 3.  2.8 1. ]\n",
            " [0.4 1.  2.4 1.8 0.8 3.  2.  3.4 3.2 1.4]\n",
            " [3.  3.6 0.2 0.8 1.8 0.4 0.6 0.8 0.6 1.2]\n",
            " [0.4 0.2 3.2 2.6 1.6 3.8 2.8 4.2 4.  2.2]\n",
            " [1.  0.4 3.8 3.2 2.2 4.4 3.4 4.8 4.6 2.8]\n",
            " [3.2 3.8 0.4 1.  2.  0.2 0.8 0.6 0.4 1.4]\n",
            " [2.  2.6 0.8 0.2 0.8 1.4 0.4 1.8 1.6 0.2]\n",
            " [1.4 2.  1.4 0.8 0.2 2.  1.  2.4 2.2 0.4]]\n"
          ]
        }
      ]
    },
    {
      "cell_type": "code",
      "metadata": {
        "id": "_Rj6rZJEtYFt"
      },
      "source": [
        "def kNN_regressor(x_train, y_train, x_test, k):\n",
        "  sum = 0\n",
        "  res_mean=[]\n",
        "  w=[]\n",
        "  # рассчет расстояния между x_test и каждым элементом тренировочных данных\n",
        "  #dists = np.array([Dist(t, x_test) for t in x_train])\n",
        "  #dists.sort()\n",
        "  # print(dists)\n",
        "  # находим среднее значение массива\n",
        "  for i in range(k):\n",
        "    for j in range(25):\n",
        "      sum = sum + dists[i][j]\n",
        "      print(dists[i][j])\n",
        "      print(sum)\n",
        "      w = sum/(j+1)\n",
        "      print(w)\n",
        "      res_mean.append(w)\n",
        "    print(res_mean)\n",
        "  x_test = res_mean\n",
        "  res_mean = [0]\n",
        "\n",
        "  return x_test"
      ],
      "execution_count": 197,
      "outputs": []
    },
    {
      "cell_type": "code",
      "metadata": {
        "colab": {
          "base_uri": "https://localhost:8080/",
          "height": 1000
        },
        "id": "e1Ih8e3H1wDJ",
        "outputId": "21ebe3cc-41b0-4273-dc17-acb2d6c01e5a"
      },
      "source": [
        "for k in range(1, 11, 2):\n",
        "  y_pred = kNN_regressor(x_train, y_train, x, k)#.tolist()\n",
        "  plt.plot(x, y, label='sin(x)')\n",
        "  plt.plot(x, y_pred)\n",
        "   \n",
        "  plt.scatter(x, y_pred, label='predicted', c='red')\n",
        "  plt.scatter(x_train, y_train, label='train')\n",
        "  \n",
        "  plt.legend()\n",
        "  plt.show()"
      ],
      "execution_count": 198,
      "outputs": [
        {
          "output_type": "stream",
          "name": "stdout",
          "text": [
            "[[0.2 0.  0.2 0.4 0.6 0.8 1.  1.2 1.4 1.6 1.8 2.  2.2 2.4 2.6 2.8 3.  3.2\n",
            "  3.4 3.6 3.8 4.  4.2 4.4 4.6]\n",
            " [2.  1.8 1.6 1.4 1.2 1.  0.8 0.6 0.4 0.2 0.  0.2 0.4 0.6 0.8 1.  1.2 1.4\n",
            "  1.6 1.8 2.  2.2 2.4 2.6 2.8]\n",
            " [2.6 2.4 2.2 2.  1.8 1.6 1.4 1.2 1.  0.8 0.6 0.4 0.2 0.  0.2 0.4 0.6 0.8\n",
            "  1.  1.2 1.4 1.6 1.8 2.  2.2]\n",
            " [1.6 1.4 1.2 1.  0.8 0.6 0.4 0.2 0.  0.2 0.4 0.6 0.8 1.  1.2 1.4 1.6 1.8\n",
            "  2.  2.2 2.4 2.6 2.8 3.  3.2]\n",
            " [1.2 1.  0.8 0.6 0.4 0.2 0.  0.2 0.4 0.6 0.8 1.  1.2 1.4 1.6 1.8 2.  2.2\n",
            "  2.4 2.6 2.8 3.  3.2 3.4 3.6]\n",
            " [3.6 3.4 3.2 3.  2.8 2.6 2.4 2.2 2.  1.8 1.6 1.4 1.2 1.  0.8 0.6 0.4 0.2\n",
            "  0.  0.2 0.4 0.6 0.8 1.  1.2]\n",
            " [0.8 0.6 0.4 0.2 0.  0.2 0.4 0.6 0.8 1.  1.2 1.4 1.6 1.8 2.  2.2 2.4 2.6\n",
            "  2.8 3.  3.2 3.4 3.6 3.8 4. ]\n",
            " [1.8 1.6 1.4 1.2 1.  0.8 0.6 0.4 0.2 0.  0.2 0.4 0.6 0.8 1.  1.2 1.4 1.6\n",
            "  1.8 2.  2.2 2.4 2.6 2.8 3. ]\n",
            " [1.4 1.2 1.  0.8 0.6 0.4 0.2 0.  0.2 0.4 0.6 0.8 1.  1.2 1.4 1.6 1.8 2.\n",
            "  2.2 2.4 2.6 2.8 3.  3.2 3.4]\n",
            " [4.  3.8 3.6 3.4 3.2 3.  2.8 2.6 2.4 2.2 2.  1.8 1.6 1.4 1.2 1.  0.8 0.6\n",
            "  0.4 0.2 0.  0.2 0.4 0.6 0.8]\n",
            " [0.6 0.4 0.2 0.  0.2 0.4 0.6 0.8 1.  1.2 1.4 1.6 1.8 2.  2.2 2.4 2.6 2.8\n",
            "  3.  3.2 3.4 3.6 3.8 4.  4.2]\n",
            " [0.  0.2 0.4 0.6 0.8 1.  1.2 1.4 1.6 1.8 2.  2.2 2.4 2.6 2.8 3.  3.2 3.4\n",
            "  3.6 3.8 4.  4.2 4.4 4.6 4.8]\n",
            " [4.2 4.  3.8 3.6 3.4 3.2 3.  2.8 2.6 2.4 2.2 2.  1.8 1.6 1.4 1.2 1.  0.8\n",
            "  0.6 0.4 0.2 0.  0.2 0.4 0.6]\n",
            " [3.  2.8 2.6 2.4 2.2 2.  1.8 1.6 1.4 1.2 1.  0.8 0.6 0.4 0.2 0.  0.2 0.4\n",
            "  0.6 0.8 1.  1.2 1.4 1.6 1.8]\n",
            " [2.4 2.2 2.  1.8 1.6 1.4 1.2 1.  0.8 0.6 0.4 0.2 0.  0.2 0.4 0.6 0.8 1.\n",
            "  1.2 1.4 1.6 1.8 2.  2.2 2.4]]\n",
            "0.2\n",
            "0.2\n",
            "0.2\n",
            "0.0\n",
            "0.2\n",
            "0.1\n",
            "0.2\n",
            "0.4\n",
            "0.13333333333333333\n",
            "0.4000000000000001\n",
            "0.8\n",
            "0.2\n",
            "0.6000000000000001\n",
            "1.4000000000000001\n",
            "0.28\n",
            "0.8\n",
            "2.2\n",
            "0.3666666666666667\n",
            "1.0000000000000002\n",
            "3.2\n",
            "0.4571428571428572\n",
            "1.2000000000000002\n",
            "4.4\n",
            "0.55\n",
            "1.4000000000000001\n",
            "5.800000000000001\n",
            "0.6444444444444445\n",
            "1.6\n",
            "7.4\n",
            "0.74\n",
            "1.8\n",
            "9.200000000000001\n",
            "0.8363636363636364\n",
            "2.0\n",
            "11.200000000000001\n",
            "0.9333333333333335\n",
            "2.2\n",
            "13.400000000000002\n",
            "1.0307692307692309\n",
            "2.4\n",
            "15.800000000000002\n",
            "1.1285714285714288\n",
            "2.6\n",
            "18.400000000000002\n",
            "1.2266666666666668\n",
            "2.8\n",
            "21.200000000000003\n",
            "1.3250000000000002\n",
            "3.0\n",
            "24.200000000000003\n",
            "1.4235294117647062\n",
            "3.2\n",
            "27.400000000000002\n",
            "1.5222222222222224\n",
            "3.4\n",
            "30.8\n",
            "1.6210526315789473\n",
            "3.6\n",
            "34.4\n",
            "1.72\n",
            "3.8\n",
            "38.199999999999996\n",
            "1.8190476190476188\n",
            "4.0\n",
            "42.199999999999996\n",
            "1.918181818181818\n",
            "4.2\n",
            "46.4\n",
            "2.017391304347826\n",
            "4.4\n",
            "50.8\n",
            "2.1166666666666667\n",
            "4.6000000000000005\n",
            "55.4\n",
            "2.2159999999999997\n",
            "[0.2, 0.1, 0.13333333333333333, 0.2, 0.28, 0.3666666666666667, 0.4571428571428572, 0.55, 0.6444444444444445, 0.74, 0.8363636363636364, 0.9333333333333335, 1.0307692307692309, 1.1285714285714288, 1.2266666666666668, 1.3250000000000002, 1.4235294117647062, 1.5222222222222224, 1.6210526315789473, 1.72, 1.8190476190476188, 1.918181818181818, 2.017391304347826, 2.1166666666666667, 2.2159999999999997]\n"
          ]
        },
        {
          "output_type": "display_data",
          "data": {
            "image/png": "[encoded data removed]",
            "text/plain": [
              "<Figure size 432x288 with 1 Axes>"
            ]
          },
          "metadata": {
            "needs_background": "light"
          }
        },
        {
          "output_type": "stream",
          "name": "stdout",
          "text": [
            "[[0.2 0.  0.2 0.4 0.6 0.8 1.  1.2 1.4 1.6 1.8 2.  2.2 2.4 2.6 2.8 3.  3.2\n",
            "  3.4 3.6 3.8 4.  4.2 4.4 4.6]\n",
            " [2.  1.8 1.6 1.4 1.2 1.  0.8 0.6 0.4 0.2 0.  0.2 0.4 0.6 0.8 1.  1.2 1.4\n",
            "  1.6 1.8 2.  2.2 2.4 2.6 2.8]\n",
            " [2.6 2.4 2.2 2.  1.8 1.6 1.4 1.2 1.  0.8 0.6 0.4 0.2 0.  0.2 0.4 0.6 0.8\n",
            "  1.  1.2 1.4 1.6 1.8 2.  2.2]\n",
            " [1.6 1.4 1.2 1.  0.8 0.6 0.4 0.2 0.  0.2 0.4 0.6 0.8 1.  1.2 1.4 1.6 1.8\n",
            "  2.  2.2 2.4 2.6 2.8 3.  3.2]\n",
            " [1.2 1.  0.8 0.6 0.4 0.2 0.  0.2 0.4 0.6 0.8 1.  1.2 1.4 1.6 1.8 2.  2.2\n",
            "  2.4 2.6 2.8 3.  3.2 3.4 3.6]\n",
            " [3.6 3.4 3.2 3.  2.8 2.6 2.4 2.2 2.  1.8 1.6 1.4 1.2 1.  0.8 0.6 0.4 0.2\n",
            "  0.  0.2 0.4 0.6 0.8 1.  1.2]\n",
            " [0.8 0.6 0.4 0.2 0.  0.2 0.4 0.6 0.8 1.  1.2 1.4 1.6 1.8 2.  2.2 2.4 2.6\n",
            "  2.8 3.  3.2 3.4 3.6 3.8 4. ]\n",
            " [1.8 1.6 1.4 1.2 1.  0.8 0.6 0.4 0.2 0.  0.2 0.4 0.6 0.8 1.  1.2 1.4 1.6\n",
            "  1.8 2.  2.2 2.4 2.6 2.8 3. ]\n",
            " [1.4 1.2 1.  0.8 0.6 0.4 0.2 0.  0.2 0.4 0.6 0.8 1.  1.2 1.4 1.6 1.8 2.\n",
            "  2.2 2.4 2.6 2.8 3.  3.2 3.4]\n",
            " [4.  3.8 3.6 3.4 3.2 3.  2.8 2.6 2.4 2.2 2.  1.8 1.6 1.4 1.2 1.  0.8 0.6\n",
            "  0.4 0.2 0.  0.2 0.4 0.6 0.8]\n",
            " [0.6 0.4 0.2 0.  0.2 0.4 0.6 0.8 1.  1.2 1.4 1.6 1.8 2.  2.2 2.4 2.6 2.8\n",
            "  3.  3.2 3.4 3.6 3.8 4.  4.2]\n",
            " [0.  0.2 0.4 0.6 0.8 1.  1.2 1.4 1.6 1.8 2.  2.2 2.4 2.6 2.8 3.  3.2 3.4\n",
            "  3.6 3.8 4.  4.2 4.4 4.6 4.8]\n",
            " [4.2 4.  3.8 3.6 3.4 3.2 3.  2.8 2.6 2.4 2.2 2.  1.8 1.6 1.4 1.2 1.  0.8\n",
            "  0.6 0.4 0.2 0.  0.2 0.4 0.6]\n",
            " [3.  2.8 2.6 2.4 2.2 2.  1.8 1.6 1.4 1.2 1.  0.8 0.6 0.4 0.2 0.  0.2 0.4\n",
            "  0.6 0.8 1.  1.2 1.4 1.6 1.8]\n",
            " [2.4 2.2 2.  1.8 1.6 1.4 1.2 1.  0.8 0.6 0.4 0.2 0.  0.2 0.4 0.6 0.8 1.\n",
            "  1.2 1.4 1.6 1.8 2.  2.2 2.4]]\n",
            "0.2\n",
            "0.2\n",
            "0.2\n",
            "0.0\n",
            "0.2\n",
            "0.1\n",
            "0.2\n",
            "0.4\n",
            "0.13333333333333333\n",
            "0.4000000000000001\n",
            "0.8\n",
            "0.2\n",
            "0.6000000000000001\n",
            "1.4000000000000001\n",
            "0.28\n",
            "0.8\n",
            "2.2\n",
            "0.3666666666666667\n",
            "1.0000000000000002\n",
            "3.2\n",
            "0.4571428571428572\n",
            "1.2000000000000002\n",
            "4.4\n",
            "0.55\n",
            "1.4000000000000001\n",
            "5.800000000000001\n",
            "0.6444444444444445\n",
            "1.6\n",
            "7.4\n",
            "0.74\n",
            "1.8\n",
            "9.200000000000001\n",
            "0.8363636363636364\n",
            "2.0\n",
            "11.200000000000001\n",
            "0.9333333333333335\n",
            "2.2\n",
            "13.400000000000002\n",
            "1.0307692307692309\n",
            "2.4\n",
            "15.800000000000002\n",
            "1.1285714285714288\n",
            "2.6\n",
            "18.400000000000002\n",
            "1.2266666666666668\n",
            "2.8\n",
            "21.200000000000003\n",
            "1.3250000000000002\n",
            "3.0\n",
            "24.200000000000003\n",
            "1.4235294117647062\n",
            "3.2\n",
            "27.400000000000002\n",
            "1.5222222222222224\n",
            "3.4\n",
            "30.8\n",
            "1.6210526315789473\n",
            "3.6\n",
            "34.4\n",
            "1.72\n",
            "3.8\n",
            "38.199999999999996\n",
            "1.8190476190476188\n",
            "4.0\n",
            "42.199999999999996\n",
            "1.918181818181818\n",
            "4.2\n",
            "46.4\n",
            "2.017391304347826\n",
            "4.4\n",
            "50.8\n",
            "2.1166666666666667\n",
            "4.6000000000000005\n",
            "55.4\n",
            "2.2159999999999997\n",
            "[0.2, 0.1, 0.13333333333333333, 0.2, 0.28, 0.3666666666666667, 0.4571428571428572, 0.55, 0.6444444444444445, 0.74, 0.8363636363636364, 0.9333333333333335, 1.0307692307692309, 1.1285714285714288, 1.2266666666666668, 1.3250000000000002, 1.4235294117647062, 1.5222222222222224, 1.6210526315789473, 1.72, 1.8190476190476188, 1.918181818181818, 2.017391304347826, 2.1166666666666667, 2.2159999999999997]\n",
            "2.0\n",
            "57.4\n",
            "57.4\n",
            "1.8\n",
            "59.199999999999996\n",
            "29.599999999999998\n",
            "1.6\n",
            "60.8\n",
            "20.266666666666666\n",
            "1.4\n",
            "62.199999999999996\n",
            "15.549999999999999\n",
            "1.2\n",
            "63.4\n",
            "12.68\n",
            "1.0\n",
            "64.4\n",
            "10.733333333333334\n",
            "0.7999999999999998\n",
            "65.2\n",
            "9.314285714285715\n",
            "0.5999999999999999\n",
            "65.8\n",
            "8.225\n",
            "0.3999999999999999\n",
            "66.2\n",
            "7.355555555555556\n",
            "0.19999999999999996\n",
            "66.4\n",
            "6.640000000000001\n",
            "0.0\n",
            "66.4\n",
            "6.036363636363637\n",
            "0.20000000000000018\n",
            "66.60000000000001\n",
            "5.550000000000001\n",
            "0.40000000000000036\n",
            "67.00000000000001\n",
            "5.153846153846155\n",
            "0.6000000000000001\n",
            "67.60000000000001\n",
            "4.828571428571429\n",
            "0.8000000000000003\n",
            "68.4\n",
            "4.5600000000000005\n",
            "1.0\n",
            "69.4\n",
            "4.3375\n",
            "1.2000000000000002\n",
            "70.60000000000001\n",
            "4.152941176470589\n",
            "1.4000000000000004\n",
            "72.00000000000001\n",
            "4.000000000000001\n",
            "1.6\n",
            "73.60000000000001\n",
            "3.8736842105263163\n",
            "1.8000000000000003\n",
            "75.4\n",
            "3.7700000000000005\n",
            "2.0\n",
            "77.4\n",
            "3.685714285714286\n",
            "2.2\n",
            "79.60000000000001\n",
            "3.6181818181818186\n",
            "2.4000000000000004\n",
            "82.00000000000001\n",
            "3.5652173913043486\n",
            "2.6000000000000005\n",
            "84.60000000000001\n",
            "3.5250000000000004\n",
            "2.8000000000000007\n",
            "87.4\n",
            "3.4960000000000004\n",
            "[0.2, 0.1, 0.13333333333333333, 0.2, 0.28, 0.3666666666666667, 0.4571428571428572, 0.55, 0.6444444444444445, 0.74, 0.8363636363636364, 0.9333333333333335, 1.0307692307692309, 1.1285714285714288, 1.2266666666666668, 1.3250000000000002, 1.4235294117647062, 1.5222222222222224, 1.6210526315789473, 1.72, 1.8190476190476188, 1.918181818181818, 2.017391304347826, 2.1166666666666667, 2.2159999999999997, 57.4, 29.599999999999998, 20.266666666666666, 15.549999999999999, 12.68, 10.733333333333334, 9.314285714285715, 8.225, 7.355555555555556, 6.640000000000001, 6.036363636363637, 5.550000000000001, 5.153846153846155, 4.828571428571429, 4.5600000000000005, 4.3375, 4.152941176470589, 4.000000000000001, 3.8736842105263163, 3.7700000000000005, 3.685714285714286, 3.6181818181818186, 3.5652173913043486, 3.5250000000000004, 3.4960000000000004]\n",
            "2.6\n",
            "90.0\n",
            "90.0\n",
            "2.4\n",
            "92.4\n",
            "46.2\n",
            "2.2\n",
            "94.60000000000001\n",
            "31.533333333333335\n",
            "2.0\n",
            "96.60000000000001\n",
            "24.150000000000002\n",
            "1.8\n",
            "98.4\n",
            "19.68\n",
            "1.6\n",
            "100.0\n",
            "16.666666666666668\n",
            "1.4\n",
            "101.4\n",
            "14.485714285714286\n",
            "1.2\n",
            "102.60000000000001\n",
            "12.825000000000001\n",
            "1.0\n",
            "103.60000000000001\n",
            "11.511111111111113\n",
            "0.8\n",
            "104.4\n",
            "10.440000000000001\n",
            "0.6000000000000001\n",
            "105.0\n",
            "9.545454545454545\n",
            "0.3999999999999999\n",
            "105.4\n",
            "8.783333333333333\n",
            "0.19999999999999973\n",
            "105.60000000000001\n",
            "8.123076923076924\n",
            "0.0\n",
            "105.60000000000001\n",
            "7.542857142857144\n",
            "0.20000000000000018\n",
            "105.80000000000001\n",
            "7.053333333333334\n",
            "0.3999999999999999\n",
            "106.20000000000002\n",
            "6.637500000000001\n",
            "0.6000000000000001\n",
            "106.80000000000001\n",
            "6.282352941176471\n",
            "0.8000000000000003\n",
            "107.60000000000001\n",
            "5.977777777777778\n",
            "1.0\n",
            "108.60000000000001\n",
            "5.715789473684211\n",
            "1.2000000000000002\n",
            "109.80000000000001\n",
            "5.49\n",
            "1.4\n",
            "111.20000000000002\n",
            "5.295238095238096\n",
            "1.6\n",
            "112.80000000000001\n",
            "5.127272727272728\n",
            "1.8000000000000003\n",
            "114.60000000000001\n",
            "4.982608695652174\n",
            "2.0000000000000004\n",
            "116.60000000000001\n",
            "4.858333333333333\n",
            "2.2000000000000006\n",
            "118.80000000000001\n",
            "4.752000000000001\n",
            "[0.2, 0.1, 0.13333333333333333, 0.2, 0.28, 0.3666666666666667, 0.4571428571428572, 0.55, 0.6444444444444445, 0.74, 0.8363636363636364, 0.9333333333333335, 1.0307692307692309, 1.1285714285714288, 1.2266666666666668, 1.3250000000000002, 1.4235294117647062, 1.5222222222222224, 1.6210526315789473, 1.72, 1.8190476190476188, 1.918181818181818, 2.017391304347826, 2.1166666666666667, 2.2159999999999997, 57.4, 29.599999999999998, 20.266666666666666, 15.549999999999999, 12.68, 10.733333333333334, 9.314285714285715, 8.225, 7.355555555555556, 6.640000000000001, 6.036363636363637, 5.550000000000001, 5.153846153846155, 4.828571428571429, 4.5600000000000005, 4.3375, 4.152941176470589, 4.000000000000001, 3.8736842105263163, 3.7700000000000005, 3.685714285714286, 3.6181818181818186, 3.5652173913043486, 3.5250000000000004, 3.4960000000000004, 90.0, 46.2, 31.533333333333335, 24.150000000000002, 19.68, 16.666666666666668, 14.485714285714286, 12.825000000000001, 11.511111111111113, 10.440000000000001, 9.545454545454545, 8.783333333333333, 8.123076923076924, 7.542857142857144, 7.053333333333334, 6.637500000000001, 6.282352941176471, 5.977777777777778, 5.715789473684211, 5.49, 5.295238095238096, 5.127272727272728, 4.982608695652174, 4.858333333333333, 4.752000000000001]\n"
          ]
        },
        {
          "output_type": "error",
          "ename": "ValueError",
          "evalue": "ignored",
          "traceback": [
            "\u001b[0;31m---------------------------------------------------------------------------\u001b[0m",
            "\u001b[0;31mValueError\u001b[0m                                Traceback (most recent call last)",
            "\u001b[0;32m<ipython-input-198-981fb76aff73>\u001b[0m in \u001b[0;36m<module>\u001b[0;34m()\u001b[0m\n\u001b[1;32m      2\u001b[0m   \u001b[0my_pred\u001b[0m \u001b[0;34m=\u001b[0m \u001b[0mkNN_regressor\u001b[0m\u001b[0;34m(\u001b[0m\u001b[0mx_train\u001b[0m\u001b[0;34m,\u001b[0m \u001b[0my_train\u001b[0m\u001b[0;34m,\u001b[0m \u001b[0mx\u001b[0m\u001b[0;34m,\u001b[0m \u001b[0mk\u001b[0m\u001b[0;34m)\u001b[0m\u001b[0;31m#.tolist()\u001b[0m\u001b[0;34m\u001b[0m\u001b[0;34m\u001b[0m\u001b[0m\n\u001b[1;32m      3\u001b[0m   \u001b[0mplt\u001b[0m\u001b[0;34m.\u001b[0m\u001b[0mplot\u001b[0m\u001b[0;34m(\u001b[0m\u001b[0mx\u001b[0m\u001b[0;34m,\u001b[0m \u001b[0my\u001b[0m\u001b[0;34m,\u001b[0m \u001b[0mlabel\u001b[0m\u001b[0;34m=\u001b[0m\u001b[0;34m'sin(x)'\u001b[0m\u001b[0;34m)\u001b[0m\u001b[0;34m\u001b[0m\u001b[0;34m\u001b[0m\u001b[0m\n\u001b[0;32m----> 4\u001b[0;31m   \u001b[0mplt\u001b[0m\u001b[0;34m.\u001b[0m\u001b[0mplot\u001b[0m\u001b[0;34m(\u001b[0m\u001b[0mx\u001b[0m\u001b[0;34m,\u001b[0m \u001b[0my_pred\u001b[0m\u001b[0;34m)\u001b[0m\u001b[0;34m\u001b[0m\u001b[0;34m\u001b[0m\u001b[0m\n\u001b[0m\u001b[1;32m      5\u001b[0m \u001b[0;34m\u001b[0m\u001b[0m\n\u001b[1;32m      6\u001b[0m   \u001b[0mplt\u001b[0m\u001b[0;34m.\u001b[0m\u001b[0mscatter\u001b[0m\u001b[0;34m(\u001b[0m\u001b[0mx\u001b[0m\u001b[0;34m,\u001b[0m \u001b[0my_pred\u001b[0m\u001b[0;34m,\u001b[0m \u001b[0mlabel\u001b[0m\u001b[0;34m=\u001b[0m\u001b[0;34m'predicted'\u001b[0m\u001b[0;34m,\u001b[0m \u001b[0mc\u001b[0m\u001b[0;34m=\u001b[0m\u001b[0;34m'red'\u001b[0m\u001b[0;34m)\u001b[0m\u001b[0;34m\u001b[0m\u001b[0;34m\u001b[0m\u001b[0m\n",
            "\u001b[0;32m/usr/local/lib/python3.7/dist-packages/matplotlib/pyplot.py\u001b[0m in \u001b[0;36mplot\u001b[0;34m(scalex, scaley, data, *args, **kwargs)\u001b[0m\n\u001b[1;32m   2761\u001b[0m     return gca().plot(\n\u001b[1;32m   2762\u001b[0m         *args, scalex=scalex, scaley=scaley, **({\"data\": data} if data\n\u001b[0;32m-> 2763\u001b[0;31m         is not None else {}), **kwargs)\n\u001b[0m\u001b[1;32m   2764\u001b[0m \u001b[0;34m\u001b[0m\u001b[0m\n\u001b[1;32m   2765\u001b[0m \u001b[0;34m\u001b[0m\u001b[0m\n",
            "\u001b[0;32m/usr/local/lib/python3.7/dist-packages/matplotlib/axes/_axes.py\u001b[0m in \u001b[0;36mplot\u001b[0;34m(self, scalex, scaley, data, *args, **kwargs)\u001b[0m\n\u001b[1;32m   1645\u001b[0m         \"\"\"\n\u001b[1;32m   1646\u001b[0m         \u001b[0mkwargs\u001b[0m \u001b[0;34m=\u001b[0m \u001b[0mcbook\u001b[0m\u001b[0;34m.\u001b[0m\u001b[0mnormalize_kwargs\u001b[0m\u001b[0;34m(\u001b[0m\u001b[0mkwargs\u001b[0m\u001b[0;34m,\u001b[0m \u001b[0mmlines\u001b[0m\u001b[0;34m.\u001b[0m\u001b[0mLine2D\u001b[0m\u001b[0;34m)\u001b[0m\u001b[0;34m\u001b[0m\u001b[0;34m\u001b[0m\u001b[0m\n\u001b[0;32m-> 1647\u001b[0;31m         \u001b[0mlines\u001b[0m \u001b[0;34m=\u001b[0m \u001b[0;34m[\u001b[0m\u001b[0;34m*\u001b[0m\u001b[0mself\u001b[0m\u001b[0;34m.\u001b[0m\u001b[0m_get_lines\u001b[0m\u001b[0;34m(\u001b[0m\u001b[0;34m*\u001b[0m\u001b[0margs\u001b[0m\u001b[0;34m,\u001b[0m \u001b[0mdata\u001b[0m\u001b[0;34m=\u001b[0m\u001b[0mdata\u001b[0m\u001b[0;34m,\u001b[0m \u001b[0;34m**\u001b[0m\u001b[0mkwargs\u001b[0m\u001b[0;34m)\u001b[0m\u001b[0;34m]\u001b[0m\u001b[0;34m\u001b[0m\u001b[0;34m\u001b[0m\u001b[0m\n\u001b[0m\u001b[1;32m   1648\u001b[0m         \u001b[0;32mfor\u001b[0m \u001b[0mline\u001b[0m \u001b[0;32min\u001b[0m \u001b[0mlines\u001b[0m\u001b[0;34m:\u001b[0m\u001b[0;34m\u001b[0m\u001b[0;34m\u001b[0m\u001b[0m\n\u001b[1;32m   1649\u001b[0m             \u001b[0mself\u001b[0m\u001b[0;34m.\u001b[0m\u001b[0madd_line\u001b[0m\u001b[0;34m(\u001b[0m\u001b[0mline\u001b[0m\u001b[0;34m)\u001b[0m\u001b[0;34m\u001b[0m\u001b[0;34m\u001b[0m\u001b[0m\n",
            "\u001b[0;32m/usr/local/lib/python3.7/dist-packages/matplotlib/axes/_base.py\u001b[0m in \u001b[0;36m__call__\u001b[0;34m(self, *args, **kwargs)\u001b[0m\n\u001b[1;32m    214\u001b[0m                 \u001b[0mthis\u001b[0m \u001b[0;34m+=\u001b[0m \u001b[0margs\u001b[0m\u001b[0;34m[\u001b[0m\u001b[0;36m0\u001b[0m\u001b[0;34m]\u001b[0m\u001b[0;34m,\u001b[0m\u001b[0;34m\u001b[0m\u001b[0;34m\u001b[0m\u001b[0m\n\u001b[1;32m    215\u001b[0m                 \u001b[0margs\u001b[0m \u001b[0;34m=\u001b[0m \u001b[0margs\u001b[0m\u001b[0;34m[\u001b[0m\u001b[0;36m1\u001b[0m\u001b[0;34m:\u001b[0m\u001b[0;34m]\u001b[0m\u001b[0;34m\u001b[0m\u001b[0;34m\u001b[0m\u001b[0m\n\u001b[0;32m--> 216\u001b[0;31m             \u001b[0;32myield\u001b[0m \u001b[0;32mfrom\u001b[0m \u001b[0mself\u001b[0m\u001b[0;34m.\u001b[0m\u001b[0m_plot_args\u001b[0m\u001b[0;34m(\u001b[0m\u001b[0mthis\u001b[0m\u001b[0;34m,\u001b[0m \u001b[0mkwargs\u001b[0m\u001b[0;34m)\u001b[0m\u001b[0;34m\u001b[0m\u001b[0;34m\u001b[0m\u001b[0m\n\u001b[0m\u001b[1;32m    217\u001b[0m \u001b[0;34m\u001b[0m\u001b[0m\n\u001b[1;32m    218\u001b[0m     \u001b[0;32mdef\u001b[0m \u001b[0mget_next_color\u001b[0m\u001b[0;34m(\u001b[0m\u001b[0mself\u001b[0m\u001b[0;34m)\u001b[0m\u001b[0;34m:\u001b[0m\u001b[0;34m\u001b[0m\u001b[0;34m\u001b[0m\u001b[0m\n",
            "\u001b[0;32m/usr/local/lib/python3.7/dist-packages/matplotlib/axes/_base.py\u001b[0m in \u001b[0;36m_plot_args\u001b[0;34m(self, tup, kwargs)\u001b[0m\n\u001b[1;32m    340\u001b[0m \u001b[0;34m\u001b[0m\u001b[0m\n\u001b[1;32m    341\u001b[0m         \u001b[0;32mif\u001b[0m \u001b[0mx\u001b[0m\u001b[0;34m.\u001b[0m\u001b[0mshape\u001b[0m\u001b[0;34m[\u001b[0m\u001b[0;36m0\u001b[0m\u001b[0;34m]\u001b[0m \u001b[0;34m!=\u001b[0m \u001b[0my\u001b[0m\u001b[0;34m.\u001b[0m\u001b[0mshape\u001b[0m\u001b[0;34m[\u001b[0m\u001b[0;36m0\u001b[0m\u001b[0;34m]\u001b[0m\u001b[0;34m:\u001b[0m\u001b[0;34m\u001b[0m\u001b[0;34m\u001b[0m\u001b[0m\n\u001b[0;32m--> 342\u001b[0;31m             raise ValueError(f\"x and y must have same first dimension, but \"\n\u001b[0m\u001b[1;32m    343\u001b[0m                              f\"have shapes {x.shape} and {y.shape}\")\n\u001b[1;32m    344\u001b[0m         \u001b[0;32mif\u001b[0m \u001b[0mx\u001b[0m\u001b[0;34m.\u001b[0m\u001b[0mndim\u001b[0m \u001b[0;34m>\u001b[0m \u001b[0;36m2\u001b[0m \u001b[0;32mor\u001b[0m \u001b[0my\u001b[0m\u001b[0;34m.\u001b[0m\u001b[0mndim\u001b[0m \u001b[0;34m>\u001b[0m \u001b[0;36m2\u001b[0m\u001b[0;34m:\u001b[0m\u001b[0;34m\u001b[0m\u001b[0;34m\u001b[0m\u001b[0m\n",
            "\u001b[0;31mValueError\u001b[0m: x and y must have same first dimension, but have shapes (25,) and (75,)"
          ]
        },
        {
          "output_type": "display_data",
          "data": {
            "image/png": "[encoded data removed]",
            "text/plain": [
              "<Figure size 432x288 with 1 Axes>"
            ]
          },
          "metadata": {
            "needs_background": "light"
          }
        }
      ]
    }
  ]
}